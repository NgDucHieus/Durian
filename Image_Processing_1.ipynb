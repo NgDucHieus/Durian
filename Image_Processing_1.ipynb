{
 "cells": [
  {
   "cell_type": "code",
   "execution_count": null,
   "id": "ca2f7746-8882-45d8-a0fc-f57ce374b46e",
   "metadata": {},
   "outputs": [],
   "source": [
    "import pyheif\n",
    "from PIL import Image\n",
    "import os\n",
    "\n",
    "def heic_to_jpg(heic_path, jpg_path):\n",
    "    # Read HEIC file\n",
    "    heif_file = pyheif.read(heic_path)\n",
    "\n",
    "    # Convert HEIC to PIL Image\n",
    "    image = Image.frombytes(\n",
    "        heif_file.mode, \n",
    "        heif_file.size, \n",
    "        heif_file.data,\n",
    "        \"raw\",\n",
    "        heif_file.mode,\n",
    "        heif_file.stride,\n",
    "    )\n",
    "\n",
    "    # Save as JPEG\n",
    "    image.save(jpg_path, \"JPEG\")\n",
    "\n",
    "# Loop through file_1.heic to file_40.heic\n",
    "for i in range(1, 41):\n",
    "    heic_filename = f'{i}.heic'  # Input HEIC filename\n",
    "    jpg_filename = f'image_{i}.jpg'    # Output JPG filename\n",
    "    \n",
    "    # Check if HEIC file exists\n",
    "    if os.path.exists(heic_filename):\n",
    "        print(f\"Converting {heic_filename} to {jpg_filename}\")\n",
    "        heic_to_jpg(heic_filename, jpg_filename)\n",
    "    else:\n",
    "        print(f\"{heic_filename} does not exist\")\n"
   ]
  }
 ],
 "metadata": {
  "kernelspec": {
   "display_name": "Python 3 (ipykernel)",
   "language": "python",
   "name": "python3"
  },
  "language_info": {
   "codemirror_mode": {
    "name": "ipython",
    "version": 3
   },
   "file_extension": ".py",
   "mimetype": "text/x-python",
   "name": "python",
   "nbconvert_exporter": "python",
   "pygments_lexer": "ipython3",
   "version": "3.9.13"
  }
 },
 "nbformat": 4,
 "nbformat_minor": 5
}
